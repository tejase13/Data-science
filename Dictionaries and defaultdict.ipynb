{
 "cells": [
  {
   "cell_type": "code",
   "execution_count": 13,
   "metadata": {},
   "outputs": [],
   "source": [
    "student_scores = {\n",
    "    'Jack': [100, 80], \n",
    "    'Jill': [90, 90],\n",
    "}"
   ]
  },
  {
   "cell_type": "code",
   "execution_count": 14,
   "metadata": {},
   "outputs": [
    {
     "name": "stdout",
     "output_type": "stream",
     "text": [
      "[100, 80]\n",
      "[]\n",
      "{'Jack': [100, 80], 'Jill': [90, 90]}\n"
     ]
    }
   ],
   "source": [
    "'''\n",
    "Syntax\n",
    "-------\n",
    "dictionary.get(keyname, value)\n",
    "\n",
    "Parameter\n",
    "---------\n",
    "keyname\tRequired. The keyname of the item you want to return the value from\n",
    "value\tOptional. A value to return if the specified key does not exist.\n",
    "Default value None\n",
    "\n",
    "'''\n",
    "print(student_scores.get('Jack'))\n",
    "print(student_scores.get('Joe', []))\n",
    "print(student_scores)"
   ]
  },
  {
   "cell_type": "code",
   "execution_count": 15,
   "metadata": {},
   "outputs": [
    {
     "name": "stdout",
     "output_type": "stream",
     "text": [
      "{'brand': 'Ford', 'model': 'Mustang', 'year': 1964}\n",
      "Mustang\n",
      "White\n",
      "{'brand': 'Ford', 'model': 'Mustang', 'year': 1964, 'color': 'White'}\n"
     ]
    }
   ],
   "source": [
    "'''\n",
    "The setdefault() method returns the value of the item with the specified key.\n",
    "\n",
    "Syntax\n",
    "-------\n",
    "dictionary.setdefault(keyname, value)\n",
    "\n",
    "Parameter\n",
    "---------\n",
    "keyname\tRequired. The keyname of the item you want to return the value from\n",
    "value\tOptional.\n",
    "If the key exist, this parameter has no effect.\n",
    "If the key does not exist, this value becomes the key's value\n",
    "Default value None\n",
    "'''\n",
    "car = {\n",
    "  \"brand\": \"Ford\",\n",
    "  \"model\": \"Mustang\",\n",
    "  \"year\": 1964\n",
    "}\n",
    "print(car)\n",
    "print(car.setdefault(\"model\"))\n",
    "print(car.setdefault(\"color\", \"White\"))\n",
    "print(car)"
   ]
  },
  {
   "cell_type": "markdown",
   "metadata": {},
   "source": [
    "### Collections.defaultdict"
   ]
  },
  {
   "cell_type": "code",
   "execution_count": 33,
   "metadata": {},
   "outputs": [],
   "source": [
    "from collections import defaultdict\n",
    "\n",
    "new_dict = defaultdict()\n",
    "new_dict[\"Jill\"] = 80"
   ]
  },
  {
   "cell_type": "code",
   "execution_count": 30,
   "metadata": {},
   "outputs": [
    {
     "data": {
      "text/plain": [
       "defaultdict(list, {'Tej': [100]})"
      ]
     },
     "execution_count": 30,
     "metadata": {},
     "output_type": "execute_result"
    }
   ],
   "source": [
    "student_grades_2 = defaultdict(list)\n",
    "student_grades_2['Tej'].append(100)\n",
    "student_grades_2"
   ]
  },
  {
   "cell_type": "code",
   "execution_count": 23,
   "metadata": {},
   "outputs": [
    {
     "data": {
      "text/plain": [
       "defaultdict(list, {'Jack': [100, 80], 'Jill': [90, 90]})"
      ]
     },
     "execution_count": 23,
     "metadata": {},
     "output_type": "execute_result"
    }
   ],
   "source": [
    "student_grades_3  = defaultdict(list, student_scores)\n",
    "student_grades_3"
   ]
  },
  {
   "cell_type": "code",
   "execution_count": 29,
   "metadata": {
    "scrolled": false
   },
   "outputs": [
    {
     "name": "stdout",
     "output_type": "stream",
     "text": [
      "75\n",
      "defaultdict(<function <lambda> at 0x000001F221D8CCA8>, {'Jack': 75})\n"
     ]
    }
   ],
   "source": [
    "#Setting a default value in dictionary\n",
    "student_grades_4 = defaultdict(lambda : 75)\n",
    "print(student_grades_4[\"Jack\"])\n",
    "print(student_grades_4)"
   ]
  },
  {
   "cell_type": "markdown",
   "metadata": {},
   "source": [
    "### collections.Counter\n",
    "\n",
    "We will try to implement the same functionality of counting the occurrences of words in a string using 3 methods"
   ]
  },
  {
   "cell_type": "code",
   "execution_count": 4,
   "metadata": {},
   "outputs": [],
   "source": [
    "from collections import Counter, defaultdict"
   ]
  },
  {
   "cell_type": "code",
   "execution_count": 2,
   "metadata": {},
   "outputs": [],
   "source": [
    "s = 'ekawade'"
   ]
  },
  {
   "cell_type": "code",
   "execution_count": 3,
   "metadata": {},
   "outputs": [
    {
     "name": "stdout",
     "output_type": "stream",
     "text": [
      "{'e': 2, 'k': 1, 'a': 2, 'w': 1, 'd': 1}\n"
     ]
    }
   ],
   "source": [
    "dict = {}\n",
    "for c in s:\n",
    "    if c in dict:\n",
    "        dict[c] += 1\n",
    "    else:\n",
    "        dict[c] = 1\n",
    "print(dict)"
   ]
  },
  {
   "cell_type": "code",
   "execution_count": 5,
   "metadata": {},
   "outputs": [
    {
     "name": "stdout",
     "output_type": "stream",
     "text": [
      "defaultdict(<class 'int'>, {'e': 2, 'k': 1, 'a': 2, 'w': 1, 'd': 1})\n"
     ]
    }
   ],
   "source": [
    "default_dict = defaultdict(int)\n",
    "for c in s:\n",
    "    default_dict[c] += 1\n",
    "print(default_dict)"
   ]
  },
  {
   "cell_type": "code",
   "execution_count": 6,
   "metadata": {
    "scrolled": true
   },
   "outputs": [
    {
     "name": "stdout",
     "output_type": "stream",
     "text": [
      "Counter({'e': 2, 'a': 2, 'k': 1, 'w': 1, 'd': 1})\n"
     ]
    }
   ],
   "source": [
    "print(Counter(s))"
   ]
  },
  {
   "cell_type": "code",
   "execution_count": 19,
   "metadata": {},
   "outputs": [
    {
     "data": {
      "text/plain": [
       "[('e', 2), ('k', 1), ('a', 1)]"
      ]
     },
     "execution_count": 19,
     "metadata": {},
     "output_type": "execute_result"
    }
   ],
   "source": [
    "###One more way of doing a similar operation\n",
    "def most_common_occ(s, n=4):\n",
    "    return(sorted({c:s.count(c) for c in s}.items(), key = lambda x: x[1], reverse=True)[:n])\n",
    "\n",
    "most_common_occ('ekea',)"
   ]
  },
  {
   "cell_type": "code",
   "execution_count": 9,
   "metadata": {},
   "outputs": [
    {
     "name": "stdout",
     "output_type": "stream",
     "text": [
      "[('a', 5), ('b', 2), ('r', 2), ('c', 1), ('d', 1)]\n",
      "[('a', 5), ('b', 2), ('r', 2)]\n"
     ]
    }
   ],
   "source": [
    "'''\n",
    "most_common([n])\n",
    "----------------\n",
    "Return a list of the n most common elements and their counts from the most common to the least. \n",
    "If n is omitted or None, most_common() returns all elements in the counter. \n",
    "Elements with equal counts are ordered in the order first encountered\n",
    "'''\n",
    "print(Counter('abracadabra').most_common())\n",
    "print(Counter('abracadabra').most_common(3))"
   ]
  },
  {
   "cell_type": "code",
   "execution_count": 10,
   "metadata": {},
   "outputs": [
    {
     "name": "stdout",
     "output_type": "stream",
     "text": [
      "0\n"
     ]
    }
   ],
   "source": [
    "'''\n",
    "Counter doesn't throw a keyerror if the key is not present. Rather it prints the value as 0\n",
    "'''\n",
    "counter_dict = Counter('abracadabra')\n",
    "print(counter_dict['k'])"
   ]
  },
  {
   "cell_type": "code",
   "execution_count": 12,
   "metadata": {},
   "outputs": [
    {
     "data": {
      "text/plain": [
       "Counter({1: 3, 2: 1, 3: 1, 4: 2})"
      ]
     },
     "execution_count": 12,
     "metadata": {},
     "output_type": "execute_result"
    }
   ],
   "source": [
    "'''\n",
    "Counting the elements of a list\n",
    "'''\n",
    "l = [1, 2, 3, 4, 1, 4, 1]\n",
    "Counter(l)"
   ]
  },
  {
   "cell_type": "code",
   "execution_count": 15,
   "metadata": {},
   "outputs": [
    {
     "data": {
      "text/plain": [
       "2"
      ]
     },
     "execution_count": 15,
     "metadata": {},
     "output_type": "execute_result"
    }
   ],
   "source": [
    "#Printing the occurrences of a specific element in a list\n",
    "l.count(4)"
   ]
  },
  {
   "cell_type": "markdown",
   "metadata": {},
   "source": [
    "### collections.deque\n",
    "\n",
    "A data structure very similar to list but consists of methods that allow us to pop items from both left and right "
   ]
  },
  {
   "cell_type": "code",
   "execution_count": 28,
   "metadata": {},
   "outputs": [
    {
     "name": "stdout",
     "output_type": "stream",
     "text": [
      "deque(['1', 'q', 'w', 'e', 'r', 't', 'y', 'u'])\n",
      "deque(['1', 'q', 'w', 'e', 'r', 't', 'y'])\n",
      "deque(['q', 'w', 'e', 'r', 't', 'y'])\n",
      "deque(['y', 'q', 'w', 'e', 'r', 't'])\n",
      "deque(['q', 'w', 'e', 'r', 't', 'y'])\n"
     ]
    }
   ],
   "source": [
    "from collections import deque\n",
    "\n",
    "x = deque('qwerty')\n",
    "x.append('u')\n",
    "x.appendleft('1')\n",
    "print(x)\n",
    "x.pop()\n",
    "print(x)\n",
    "x.popleft()\n",
    "print(x)\n",
    "x.rotate() #right rotation\n",
    "print(x)\n",
    "x.rotate(-1) #left rotation\n",
    "print(x)"
   ]
  },
  {
   "cell_type": "markdown",
   "metadata": {},
   "source": [
    "### collections.namedtuple\n",
    "\n",
    "collections.namedtuple(typename, field_names, *, rename=False, defaults=None, module=None) <br>\n",
    "Creates a class like structure using tuples. \n",
    "\n",
    "Returns a new tuple subclass named typename. The new subclass is used to create tuple-like objects that have fields accessible by attribute lookup as well as being indexable and iterable."
   ]
  },
  {
   "cell_type": "code",
   "execution_count": 31,
   "metadata": {},
   "outputs": [
    {
     "name": "stdout",
     "output_type": "stream",
     "text": [
      "Car(color='maroon', make='chevrolet', mileage=20)\n",
      "maroon\n",
      "maroon\n"
     ]
    }
   ],
   "source": [
    "from collections import namedtuple\n",
    "\n",
    "Car = namedtuple(\"Car\", [\"color\", \"make\", \"mileage\"])\n",
    "my_car = Car(\"maroon\", \"chevrolet\", 20)\n",
    "print(my_car)\n",
    "print(my_car.color)\n",
    "print(my_car[0])"
   ]
  },
  {
   "cell_type": "code",
   "execution_count": 32,
   "metadata": {},
   "outputs": [
    {
     "ename": "TypeError",
     "evalue": "tuple indices must be integers or slices, not str",
     "output_type": "error",
     "traceback": [
      "\u001b[1;31m---------------------------------------------------------------------------\u001b[0m",
      "\u001b[1;31mTypeError\u001b[0m                                 Traceback (most recent call last)",
      "\u001b[1;32m<ipython-input-32-7ae95a390c44>\u001b[0m in \u001b[0;36m<module>\u001b[1;34m\u001b[0m\n\u001b[0;32m      1\u001b[0m \u001b[1;31m#What doesn't work\u001b[0m\u001b[1;33m\u001b[0m\u001b[1;33m\u001b[0m\u001b[1;33m\u001b[0m\u001b[0m\n\u001b[1;32m----> 2\u001b[1;33m \u001b[0mmy_car\u001b[0m\u001b[1;33m[\u001b[0m\u001b[1;34m\"color\"\u001b[0m\u001b[1;33m]\u001b[0m\u001b[1;33m\u001b[0m\u001b[1;33m\u001b[0m\u001b[0m\n\u001b[0m",
      "\u001b[1;31mTypeError\u001b[0m: tuple indices must be integers or slices, not str"
     ]
    }
   ],
   "source": [
    "#What doesn't work\n",
    "my_car[\"color\"]"
   ]
  },
  {
   "cell_type": "code",
   "execution_count": 34,
   "metadata": {},
   "outputs": [
    {
     "ename": "AttributeError",
     "evalue": "can't set attribute",
     "output_type": "error",
     "traceback": [
      "\u001b[1;31m---------------------------------------------------------------------------\u001b[0m",
      "\u001b[1;31mAttributeError\u001b[0m                            Traceback (most recent call last)",
      "\u001b[1;32m<ipython-input-34-be8428010c0b>\u001b[0m in \u001b[0;36m<module>\u001b[1;34m\u001b[0m\n\u001b[0;32m      1\u001b[0m \u001b[1;31m#What doesn't work 2 (Because tuples are immutable)\u001b[0m\u001b[1;33m\u001b[0m\u001b[1;33m\u001b[0m\u001b[1;33m\u001b[0m\u001b[0m\n\u001b[1;32m----> 2\u001b[1;33m \u001b[0mmy_car\u001b[0m\u001b[1;33m.\u001b[0m\u001b[0mcolor\u001b[0m \u001b[1;33m=\u001b[0m \u001b[1;34m\"silver\"\u001b[0m\u001b[1;33m\u001b[0m\u001b[1;33m\u001b[0m\u001b[0m\n\u001b[0m",
      "\u001b[1;31mAttributeError\u001b[0m: can't set attribute"
     ]
    }
   ],
   "source": [
    "#What doesn't work 2 (Because tuples are immutable)\n",
    "my_car.color = \"silver\""
   ]
  }
 ],
 "metadata": {
  "kernelspec": {
   "display_name": "tf_gpu",
   "language": "python",
   "name": "tf_gpu"
  },
  "language_info": {
   "codemirror_mode": {
    "name": "ipython",
    "version": 3
   },
   "file_extension": ".py",
   "mimetype": "text/x-python",
   "name": "python",
   "nbconvert_exporter": "python",
   "pygments_lexer": "ipython3",
   "version": "3.7.7"
  }
 },
 "nbformat": 4,
 "nbformat_minor": 4
}
